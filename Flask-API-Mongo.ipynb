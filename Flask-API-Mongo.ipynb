{
 "cells": [
  {
   "cell_type": "markdown",
   "metadata": {},
   "source": [
    "# API Chat Database using Mongo, Flask, and Python"
   ]
  },
  {
   "cell_type": "code",
   "execution_count": 443,
   "metadata": {},
   "outputs": [],
   "source": [
    "import requests\n",
    "from bs4 import BeautifulSoup\n",
    "import re\n",
    "from flask_pymongo import PyMongo\n",
    "from pymongo import MongoClient\n",
    "import nltk\n",
    "from nltk.sentiment.vader import SentimentIntensityAnalyzer\n",
    "import pandas as pd"
   ]
  },
  {
   "cell_type": "markdown",
   "metadata": {},
   "source": [
    "\n",
    "\n",
    "### We have made our connection with Mongo, Flask and Python in Visual Studio Code.\n",
    "- And we are able to insert into and request data from Mongo.<br>\n",
    "- Now we are going to try to get track down something we can use to populate our chat databae with.\n",
    " \n",
    "\n",
    "### We could use a real chat app like slack...<br> but we could have some fun with it and fill our database with dialogues from a script.<br>\n",
    "Some options were:\n",
    "- Monty Python's Life of Brian (from the namesake of our beloved code)\n",
    "- The Big Lebowski (NLTK would go crazy with all the f-bombs and Walter would definitley tilt the scale \n",
    "  to the negative.)\n",
    "- Twin Peaks (a personal favorite)\n",
    "\n",
    "\n",
    "-------------"
   ]
  },
  {
   "cell_type": "markdown",
   "metadata": {},
   "source": [
    "### We found a relatively easy script to parse of Twin Peaks. It doesn't seem to be a heavy work load of scraping and cleaning."
   ]
  },
  {
   "cell_type": "code",
   "execution_count": 400,
   "metadata": {},
   "outputs": [
    {
     "data": {
      "text/plain": [
       "<Response [200]>"
      ]
     },
     "execution_count": 400,
     "metadata": {},
     "output_type": "execute_result"
    }
   ],
   "source": [
    "data = requests.get(\"http://www.lynchnet.com/tp/tp01.html\")\n",
    "data"
   ]
  },
  {
   "cell_type": "markdown",
   "metadata": {},
   "source": [
    "(The following steps are for my benefit to help me see the types of data each turn of the screw produces. We can see that the data transforms from a Response class to BeautifulSoup to a ResultSet class to a Tag class and finally to a list)\n",
    "\n",
    "---------"
   ]
  },
  {
   "cell_type": "code",
   "execution_count": 401,
   "metadata": {},
   "outputs": [
    {
     "data": {
      "text/plain": [
       "requests.models.Response"
      ]
     },
     "execution_count": 401,
     "metadata": {},
     "output_type": "execute_result"
    }
   ],
   "source": [
    "type(data)"
   ]
  },
  {
   "cell_type": "code",
   "execution_count": 402,
   "metadata": {},
   "outputs": [
    {
     "data": {
      "text/plain": [
       "bs4.BeautifulSoup"
      ]
     },
     "execution_count": 402,
     "metadata": {},
     "output_type": "execute_result"
    }
   ],
   "source": [
    "soup = BeautifulSoup(data.text)\n",
    "type(soup)"
   ]
  },
  {
   "cell_type": "code",
   "execution_count": 403,
   "metadata": {},
   "outputs": [
    {
     "data": {
      "text/plain": [
       "bs4.element.ResultSet"
      ]
     },
     "execution_count": 403,
     "metadata": {},
     "output_type": "execute_result"
    }
   ],
   "source": [
    "script = soup.select('pre')\n",
    "type(script)\n"
   ]
  },
  {
   "cell_type": "code",
   "execution_count": 404,
   "metadata": {},
   "outputs": [
    {
     "data": {
      "text/plain": [
       "bs4.element.Tag"
      ]
     },
     "execution_count": 404,
     "metadata": {},
     "output_type": "execute_result"
    }
   ],
   "source": [
    "scr = script[0]\n",
    "type(scr)"
   ]
  },
  {
   "cell_type": "code",
   "execution_count": 405,
   "metadata": {},
   "outputs": [
    {
     "data": {
      "text/plain": [
       "list"
      ]
     },
     "execution_count": 405,
     "metadata": {},
     "output_type": "execute_result"
    }
   ],
   "source": [
    "s = scr.contents\n",
    "type(s)"
   ]
  },
  {
   "cell_type": "markdown",
   "metadata": {},
   "source": [
    "--------------"
   ]
  },
  {
   "cell_type": "markdown",
   "metadata": {},
   "source": [
    "### Now we have a list and we can start cleaning the contents. <br> There are lots of \\n characters and it looks like a great opportunity to use our Regular Expressions."
   ]
  },
  {
   "cell_type": "code",
   "execution_count": 406,
   "metadata": {},
   "outputs": [
    {
     "data": {
      "text/plain": [
       "'FADE IN:    1 EXT GREAT NORTHERN HOTEL - DAY    Dawn reaks over the Great NorthernCUT TO:    2 INT GREAT NORTHERN HOTEL ROOM - DAY    We hear him efore we see him, ut DALE COOPER is perched six inches aovethe floor in a one-handed yoga \"frog\" position, wearing oxer shorts and a pair ofsocks, talking into the tape recorder which is sitting on the carpet near his head    COOPERDiane  6:18 am, room 315, Great NorthernHotel up here in Twin Peaks Slept pretty wellNon-smoking room No toacco smell That\\'s anice consideration for the usiness traveller Ahint of douglas fir needles in the air As SheriffTruman indicated they would, everything thishotel promised, they\\'ve delivered: clean,reasonaly priced accomodations  telephoneworks  athroom in really tip-top shape  nodrips, plenty of hot water with good, steadypressure  could e a side-enefit of thewaterfall just outside my window  firmmattress, ut not too firm  and no lumps likethat time I told you aout down in El Paso Diane, what a nightmare that was, ut of courseyou\\'ve heard me tell that story once or twiceefore Haven\\'t tried the television Looks likecale, proaly no reception prolems But thetrue test of any hotel, as you know, is thatmorning cup of coffee, which I\\'ll e getting ackto you aout within the half hour  Diane, itstruck me again earlier this morning; there aretwo things that continue to troule me, and I\\'mnot just speaking as an agent of the Bureau utalso as a human eing: what really went onetween Marilyn Monroe and the Kennedys?And who really pulled the trigger on JFK?CUT TO:    3 EXT SHERIFF TRUMAN\\'S HOUSE - MORNING    A rustic log house, with the Sheriffs cruiser parked in front A rooster crowsSHERIFF TRUMAN exits the house, carrying a soiled paper ag He walks aroundthe side yard to a chicken coop and scatters the feed he has in the ag into thecoop They start clucking and pecking        TRUMANHow you girls doin\\' this morning? Sounds likeyou got plenty to talk aout today Hope it\\'sgood news    He empties the ag and starts towards the cruiserCUT TO:4 EXT DOUGHNUT SHOP - DAY    A sign reads: WAGON-WHEEL DO-NUTSCUT TO:5 INT DOUGHNUT SHOP - MORNING    A anner reads: GO AHEAD; MAKE MY DONUT Another anner reads:SQUARE DEALS ON ROUND DONUTS    DEPUTY ANDY BRENNAN and LUCY MORAN are at the counter, in the middle ofordering    LUCY two oxes of chocolate creams with jimmies, aox of maple earclaws, one rasperry swizzletwist, two oxes of jelly donuts(to Andy)I\\'m ordering extra jelly donuts ecause they\\'reAgent Cooper\\'s favorite, you know my aunt I toldyou aout with the raccoons? She liked jellydonuts, they were her favorite, ut she doesn\\'tremind me at all of Agent Cooper(a new thought)Her son, though, does -    ANDYAnd one plum frappe turnoverCUT TO:6 INT SHERIFF\\'S CRUISER - MORNING    Truman drives past Wagon-Wheel Do-Nuts just in time to see Lucy and Andyleaving the shop, with Andy carrying a stack of donut oxes up to his neck    Truman pulls into the parking lot next to them and leans out the window    TRUMANCan I give you three a lift?    LUCY(looking atound)But Sheriff, there\\'s only two of us        Truman and Andy look at each otherCUT TO:    7 INT GREAT NORTHERN HOTEL DINING ROOM - DAY    Dale Cooper sits at a choice corner tale, holding a fresh, hot cup of coffee, as aWAITRESS stands y, holding the coffee pot    COOPER(holding up a hand to stop her)Wait right there, wait right there (he sniffs the coffee; hmm  he sips)You know, this is, excuse me, a '"
      ]
     },
     "execution_count": 406,
     "metadata": {},
     "output_type": "execute_result"
    }
   ],
   "source": [
    "clean_script = [re.sub(r\"[\\n\\tb]\",\"\",str(phrase)) for phrase in s]\n",
    "\n",
    "cl_scr = [re.sub(r\"[<.*>]\",\"\", str(phrase)) for phrase in clean_script]\n",
    "cl_scr\n",
    "del cl_scr[:8]\n",
    "cl_scr[0]"
   ]
  },
  {
   "cell_type": "markdown",
   "metadata": {},
   "source": [
    "-----------------"
   ]
  },
  {
   "cell_type": "markdown",
   "metadata": {},
   "source": [
    "### By a lucky turn of events we found a very clean Big Lebowski subtitle text file. So we are changing to this because we know that the NLTK analysis will give us a clear negative sentiment probability. "
   ]
  },
  {
   "cell_type": "code",
   "execution_count": 197,
   "metadata": {},
   "outputs": [
    {
     "data": {
      "text/plain": [
       "3203"
      ]
     },
     "execution_count": 197,
     "metadata": {},
     "output_type": "execute_result"
    }
   ],
   "source": [
    "reader = open(\"code/helpers/the_big_lebowski.txt\", 'r') \n",
    "lines = [line for line in reader]\n",
    "for line in lines:\n",
    "    if line == \"\\n\":\n",
    "        lines.remove(line)\n",
    "clean_lines = [re.sub(r\"[\\n]\",\"\",line) for line in lines]\n",
    "clean_lines\n",
    "len(clean_lines)"
   ]
  },
  {
   "cell_type": "code",
   "execution_count": 424,
   "metadata": {},
   "outputs": [],
   "source": [
    "character_list = [\"Dude Lebowski\", \"Walter Sobchak\",\"Donny\", \"Jeffrey Lebowski\", \"Maude Lebowski\", \"Bunny Lebowski\", \"Brandt\", \"Stranger\", \"Marty\", \"DaFino\", \"Jackie Treehorn\", \"Nihilists\", \"Uli Kunkel\", \"Karl Hungus\", \"Franz\", \"Dieter\", \"Jesus Quintana\", \"Liam O'Brien\", \"ArthurDigby Sellers\", \"Larry Sellers\", \"Smokey\", \"Knox Harrington\"]\n"
   ]
  },
  {
   "cell_type": "code",
   "execution_count": 425,
   "metadata": {},
   "outputs": [
    {
     "name": "stdout",
     "output_type": "stream",
     "text": [
      "['Dude Lebowski', 'Walter Sobchak', 'Donny', 'Jeffrey Lebowski', 'Maude Lebowski', 'Bunny Lebowski', 'Brandt', 'Stranger', 'Marty', 'DaFino', 'Jackie Treehorn', 'Nihilists', 'Uli Kunkel', 'Karl Hungus', 'Franz', 'Dieter', 'Jesus Quintana', \"Liam O'Brien\", 'ArthurDigby Sellers', 'Larry Sellers', 'Smokey', 'Knox Harrington']\n"
     ]
    }
   ],
   "source": [
    "print(character_list)"
   ]
  },
  {
   "cell_type": "markdown",
   "metadata": {},
   "source": [
    "### We are going to try to insert user data into our database using this list of characters."
   ]
  },
  {
   "cell_type": "code",
   "execution_count": 431,
   "metadata": {},
   "outputs": [],
   "source": [
    "url = \"http://localhost:5000\""
   ]
  },
  {
   "cell_type": "code",
   "execution_count": 432,
   "metadata": {},
   "outputs": [
    {
     "data": {
      "text/plain": [
       "<Response [200]>"
      ]
     },
     "execution_count": 432,
     "metadata": {},
     "output_type": "execute_result"
    }
   ],
   "source": [
    "res = requests.get(url)\n",
    "res"
   ]
  },
  {
   "cell_type": "code",
   "execution_count": 434,
   "metadata": {},
   "outputs": [],
   "source": [
    "# This will insert our users\n",
    "for name in character_list:\n",
    "    new_user = {\n",
    "        \"name\":name\n",
    "    }\n",
    "    requests.get(url+\"/insert/users\", params=new_user)\n",
    "    "
   ]
  },
  {
   "cell_type": "code",
   "execution_count": 420,
   "metadata": {},
   "outputs": [
    {
     "data": {
      "text/plain": [
       "27"
      ]
     },
     "execution_count": 420,
     "metadata": {},
     "output_type": "execute_result"
    }
   ],
   "source": [
    "# We magically created a list of list.\n",
    "# each list in a scene from the movie which we will use as a chat. \n",
    "len(all_scenes)"
   ]
  },
  {
   "cell_type": "code",
   "execution_count": 435,
   "metadata": {},
   "outputs": [],
   "source": [
    "# This will insert our chats into the chat collection and messages into the message collection\n",
    "for scene in all_scenes:\n",
    "    dialogue = {\n",
    "            \"chat\":scene\n",
    "    }\n",
    "    requests.get(url+\"/insert/chats\", params=dialogue)\n",
    "    for line in scene:\n",
    "        message = {\n",
    "            \"message\":line\n",
    "        }\n",
    "        requests.get(url+\"/insert/messages\", params=message)"
   ]
  },
  {
   "cell_type": "markdown",
   "metadata": {},
   "source": [
    "### Not everything works the way we want it.\n",
    "- Tried to retrieve infomation from our database but having difficulty walking and chewing gum at the same time.\n",
    "- At least we can still have a little fun and analyze the probability of sentiments in our sample dialogue.\n",
    "- Our prediction is it will be overwhelmingly negative because there are 260 f-bombs and a lot of complaining from both Walter and the Dude."
   ]
  },
  {
   "cell_type": "code",
   "execution_count": 444,
   "metadata": {},
   "outputs": [],
   "source": [
    "sia = SentimentIntensityAnalyzer()"
   ]
  },
  {
   "cell_type": "code",
   "execution_count": 449,
   "metadata": {},
   "outputs": [
    {
     "data": {
      "text/html": [
       "<div>\n",
       "<style scoped>\n",
       "    .dataframe tbody tr th:only-of-type {\n",
       "        vertical-align: middle;\n",
       "    }\n",
       "\n",
       "    .dataframe tbody tr th {\n",
       "        vertical-align: top;\n",
       "    }\n",
       "\n",
       "    .dataframe thead th {\n",
       "        text-align: right;\n",
       "    }\n",
       "</style>\n",
       "<table border=\"1\" class=\"dataframe\">\n",
       "  <thead>\n",
       "    <tr style=\"text-align: right;\">\n",
       "      <th></th>\n",
       "      <th>neg</th>\n",
       "      <th>neu</th>\n",
       "      <th>pos</th>\n",
       "      <th>compound</th>\n",
       "    </tr>\n",
       "  </thead>\n",
       "  <tbody>\n",
       "    <tr>\n",
       "      <th>0</th>\n",
       "      <td>0.0</td>\n",
       "      <td>1.0</td>\n",
       "      <td>0.0</td>\n",
       "      <td>0.0</td>\n",
       "    </tr>\n",
       "    <tr>\n",
       "      <th>1</th>\n",
       "      <td>0.0</td>\n",
       "      <td>1.0</td>\n",
       "      <td>0.0</td>\n",
       "      <td>0.0</td>\n",
       "    </tr>\n",
       "    <tr>\n",
       "      <th>2</th>\n",
       "      <td>0.0</td>\n",
       "      <td>1.0</td>\n",
       "      <td>0.0</td>\n",
       "      <td>0.0</td>\n",
       "    </tr>\n",
       "    <tr>\n",
       "      <th>3</th>\n",
       "      <td>0.0</td>\n",
       "      <td>1.0</td>\n",
       "      <td>0.0</td>\n",
       "      <td>0.0</td>\n",
       "    </tr>\n",
       "    <tr>\n",
       "      <th>4</th>\n",
       "      <td>0.0</td>\n",
       "      <td>1.0</td>\n",
       "      <td>0.0</td>\n",
       "      <td>0.0</td>\n",
       "    </tr>\n",
       "  </tbody>\n",
       "</table>\n",
       "</div>"
      ],
      "text/plain": [
       "   neg  neu  pos  compound\n",
       "0  0.0  1.0  0.0       0.0\n",
       "1  0.0  1.0  0.0       0.0\n",
       "2  0.0  1.0  0.0       0.0\n",
       "3  0.0  1.0  0.0       0.0\n",
       "4  0.0  1.0  0.0       0.0"
      ]
     },
     "execution_count": 449,
     "metadata": {},
     "output_type": "execute_result"
    }
   ],
   "source": [
    "punc = pd.DataFrame([sia.polarity_scores(line) for scene in all_scenes for line in scene])\n",
    "punc.head()"
   ]
  },
  {
   "cell_type": "code",
   "execution_count": 448,
   "metadata": {},
   "outputs": [
    {
     "data": {
      "text/plain": [
       "neg         0.083262\n",
       "neu         0.826345\n",
       "pos         0.090391\n",
       "compound   -0.007196\n",
       "dtype: float64"
      ]
     },
     "execution_count": 448,
     "metadata": {},
     "output_type": "execute_result"
    }
   ],
   "source": [
    "punc.mean()"
   ]
  },
  {
   "cell_type": "markdown",
   "metadata": {},
   "source": [
    "### Hey, look at that! It's possibily only a bit negative! We could try this on scene by scene basis. \n",
    "- but we will stop here for the time....don't want to take the magic out of everything all at one."
   ]
  }
 ],
 "metadata": {
  "kernelspec": {
   "display_name": "Python 3",
   "language": "python",
   "name": "python3"
  },
  "language_info": {
   "codemirror_mode": {
    "name": "ipython",
    "version": 3
   },
   "file_extension": ".py",
   "mimetype": "text/x-python",
   "name": "python",
   "nbconvert_exporter": "python",
   "pygments_lexer": "ipython3",
   "version": "3.8.5"
  }
 },
 "nbformat": 4,
 "nbformat_minor": 4
}
